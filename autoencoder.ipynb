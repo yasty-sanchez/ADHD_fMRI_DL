{
 "cells": [
  {
   "cell_type": "code",
   "execution_count": null,
   "metadata": {
    "executionInfo": {
     "elapsed": 10713,
     "status": "ok",
     "timestamp": 1727205201330,
     "user": {
      "displayName": "Yasty Sánchez",
      "userId": "01336246420740504937"
     },
     "user_tz": 360
    },
    "id": "JVxRWRFoXmzp"
   },
   "outputs": [],
   "source": [
    "# Torch-related imports\n",
    "import torch\n",
    "import torch.nn as nn\n",
    "import torch.optim as optim\n",
    "import torch.nn.functional as F\n",
    "from torch.utils.data import DataLoader, Dataset, Subset\n",
    "\n",
    "# Scikit-learn-related imports\n",
    "from sklearn.model_selection import StratifiedShuffleSplit\n",
    "from sklearn.metrics import confusion_matrix, accuracy_score\n",
    "\n",
    "# Nibabel and Scipy imports (for handling fMRI and image processing)\n",
    "import nibabel as nib\n",
    "import scipy.ndimage as ndimage  # For smoothing\n",
    "\n",
    "# NumPy, Matplotlib, and Seaborn (for data manipulation and visualization)\n",
    "import numpy as np\n",
    "import matplotlib.pyplot as plt\n",
    "import seaborn as sns\n",
    "\n",
    "# OS for file system operations\n",
    "import os"
   ]
  },
  {
   "cell_type": "code",
   "execution_count": null,
   "metadata": {
    "colab": {
     "base_uri": "https://localhost:8080/"
    },
    "executionInfo": {
     "elapsed": 271,
     "status": "ok",
     "timestamp": 1727205204171,
     "user": {
      "displayName": "Yasty Sánchez",
      "userId": "01336246420740504937"
     },
     "user_tz": 360
    },
    "id": "gbM8hGXtXr20",
    "outputId": "86fdd20c-ff4d-4855-dcfa-081c4a820ec0"
   },
   "outputs": [],
   "source": [
    "import torch\n",
    "import os\n",
    "\n",
    "os.environ['CUDA_LAUNCH_BLOCKING'] = '0'\n",
    "device = 'cuda' if torch.cuda.is_available() else 'cpu'\n",
    "print(device)"
   ]
  },
  {
   "cell_type": "markdown",
   "metadata": {
    "id": "Y6g2yk5jYDOY"
   },
   "source": [
    "# Preprocessing"
   ]
  },
  {
   "cell_type": "code",
   "execution_count": null,
   "metadata": {
    "colab": {
     "base_uri": "https://localhost:8080/"
    },
    "executionInfo": {
     "elapsed": 1350,
     "status": "ok",
     "timestamp": 1727205206943,
     "user": {
      "displayName": "Yasty Sánchez",
      "userId": "01336246420740504937"
     },
     "user_tz": 360
    },
    "id": "nOOgfWGtXsiJ",
    "outputId": "cc09d016-f527-47d8-df41-9d20ce946ae8"
   },
   "outputs": [],
   "source": [
    "# from google.colab import drive\n",
    "# drive.mount('/content/drive')\n",
    "\n",
    "# root_dir = os.path.join('/content/drive', 'My Drive', 'UCR', '2-2024', 'InvCC', 'ADHD200', 'Datasets', 'preprocessed')\n",
    "\n",
    "import os\n",
    "from sklearn.utils.class_weight import compute_class_weight\n",
    "\n",
    "root_dir = os.path.join('data', 'preprocessed')\n",
    "\n",
    "tdc_dir = os.path.join(root_dir, 'TDC')\n",
    "adhd_dir = os.path.join(root_dir, 'ADHD')\n",
    "\n",
    "# To save autoencoder state dict\n",
    "save_path = os.path.join(root_dir, 'autoencoder.pt')\n",
    "\n",
    "# Recursively find all .nii.gz files in TDC and ADHD folders\n",
    "tdc_file_paths = [\n",
    "    os.path.join(root, file)\n",
    "    for root, _, files in os.walk(tdc_dir)\n",
    "    for file in files if file.endswith('.nii.gz')\n",
    "]\n",
    "\n",
    "adhd_file_paths = [\n",
    "    os.path.join(root, file)\n",
    "    for root, _, files in os.walk(adhd_dir)\n",
    "    for file in files if file.endswith('.nii.gz')\n",
    "]\n",
    "\n",
    "# Assuming tdc_file_paths and adhd_file_paths were correctly populated\n",
    "tdc_labels = [0] * len(tdc_file_paths)  # Create labels for TDC\n",
    "adhd_labels = [1] * len(adhd_file_paths)  # Create labels for ADHD\n",
    "\n",
    "# Combine file paths and labels\n",
    "file_paths = tdc_file_paths + adhd_file_paths\n",
    "labels = tdc_labels + adhd_labels\n",
    "\n",
    "# Verify lengths\n",
    "print(f\"Total file paths: {len(file_paths)}\")  # Should be 5100\n",
    "print(f\"Total labels: {len(labels)}\")  # Should also be 5100\n",
    "\n",
    "# Calculate class weights\n",
    "class_weights = compute_class_weight(class_weight='balanced', classes=np.unique(labels), y=labels)\n",
    "class_weights = torch.tensor(class_weights, dtype=torch.float32).to(device)\n",
    "\n",
    "print(f'Class weights: ', class_weights)"
   ]
  },
  {
   "cell_type": "code",
   "execution_count": null,
   "metadata": {
    "executionInfo": {
     "elapsed": 230,
     "status": "ok",
     "timestamp": 1727205212587,
     "user": {
      "displayName": "Yasty Sánchez",
      "userId": "01336246420740504937"
     },
     "user_tz": 360
    },
    "id": "l6rQM69NXyLm"
   },
   "outputs": [],
   "source": [
    "import torch\n",
    "import nibabel as nib\n",
    "import torch.nn.functional as F\n",
    "from torch.utils.data import Dataset\n",
    "import numpy as np\n",
    "from scipy import ndimage\n",
    "\n",
    "class FMRI_Dataset(Dataset):\n",
    "    def __init__(self, file_paths, labels, max_shape, smoothing_sigma=1, augment=False):\n",
    "        self.file_paths = file_paths  # List of paths to the fMRI data files\n",
    "        self.labels = labels  # Corresponding labels\n",
    "        self.max_shape = max_shape  # Shape to pad all inputs to (e.g., [1, 61, 73, 61])\n",
    "        self.smoothing_sigma = smoothing_sigma  # Standard deviation for Gaussian smoothing\n",
    "        self.augment = augment  # Apply augmentations if True\n",
    "\n",
    "    def __len__(self):\n",
    "        return len(self.file_paths)\n",
    "\n",
    "    def __getitem__(self, idx):\n",
    "        # Load fMRI data\n",
    "        fmri_img = nib.load(self.file_paths[idx])\n",
    "        data = fmri_img.get_fdata()\n",
    "\n",
    "        # Apply Gaussian smoothing\n",
    "        data = self.smooth_data(data)\n",
    "\n",
    "        # Apply augmentations if enabled\n",
    "        if self.augment:\n",
    "            data = self.apply_augmentations(data)\n",
    "\n",
    "        # Normalize the data\n",
    "        data = self.normalize_data(data)\n",
    "\n",
    "        # Convert to tensor and add missing dimensions\n",
    "        data_tensor = torch.tensor(data, dtype=torch.float32).unsqueeze(0)\n",
    "\n",
    "        # Pad the tensor to the specified max_shape\n",
    "        data_padded = F.pad(data_tensor, pad=self.calculate_padding(data_tensor.shape), mode='constant', value=0)\n",
    "\n",
    "        # Ensure the final shape matches max_shape\n",
    "        data_padded = data_padded.view(*self.max_shape)\n",
    "\n",
    "        # Get the label\n",
    "        label = torch.tensor(self.labels[idx], dtype=torch.long)\n",
    "\n",
    "        return data_padded, label\n",
    "\n",
    "    def apply_augmentations(self, data):\n",
    "        data = self.add_noise(data)\n",
    "        data = self.random_rotate(data)\n",
    "        data = self.random_intensity_shift(data)\n",
    "        return data\n",
    "\n",
    "    def add_noise(self, data, mean=0, std=0.01):\n",
    "        noise = np.random.normal(mean, std, data.shape)\n",
    "        return data + noise\n",
    "\n",
    "    def random_rotate(self, data):\n",
    "        angles = np.random.uniform(-5, 5, size=3)\n",
    "        return ndimage.rotate(data, angle=angles[0], axes=(1, 2), reshape=False, mode='nearest')\n",
    "\n",
    "    def random_intensity_shift(self, data, shift_limit=0.05):\n",
    "        shift_value = np.random.uniform(-shift_limit, shift_limit)\n",
    "        return data + shift_value\n",
    "\n",
    "    def calculate_padding(self, current_shape):\n",
    "        padding = []\n",
    "        for current_dim, max_dim in zip(reversed(current_shape), reversed(self.max_shape)):\n",
    "            pad_total = max_dim - current_dim\n",
    "            padding.append(pad_total // 2)\n",
    "            padding.append(pad_total - (pad_total // 2))\n",
    "        return padding\n",
    "\n",
    "    def normalize_data(self, data):\n",
    "        mean = data.mean()\n",
    "        std = data.std()\n",
    "        return (data - mean) / std if std > 0 else data\n",
    "\n",
    "    def smooth_data(self, data):\n",
    "        return ndimage.gaussian_filter(data, sigma=self.smoothing_sigma)"
   ]
  },
  {
   "cell_type": "code",
   "execution_count": null,
   "metadata": {
    "executionInfo": {
     "elapsed": 10228,
     "status": "ok",
     "timestamp": 1727205249449,
     "user": {
      "displayName": "Yasty Sánchez",
      "userId": "01336246420740504937"
     },
     "user_tz": 360
    },
    "id": "VuxrLbWOX5uj"
   },
   "outputs": [],
   "source": [
    "import numpy as np\n",
    "import torch\n",
    "from torch.utils.data import DataLoader\n",
    "from sklearn.model_selection import StratifiedShuffleSplit\n",
    "\n",
    "# Assuming you already have file_paths and labels defined as in your previous code\n",
    "\n",
    "# Parameters\n",
    "batch_size = 4\n",
    "num_classes = 2\n",
    "max_shape = [1, 61, 73, 61]\n",
    "\n",
    "# Stratified Shuffle Split\n",
    "labels = np.array(labels)\n",
    "dataset = FMRI_Dataset(file_paths, labels, max_shape)\n",
    "\n",
    "sss = StratifiedShuffleSplit(n_splits=1, test_size=0.3, random_state=42)  # 70% train, 30% test\n",
    "\n",
    "for train_index, test_index in sss.split(file_paths, labels):\n",
    "    train_file_paths, test_file_paths = np.array(file_paths)[train_index], np.array(file_paths)[test_index]\n",
    "    train_labels, test_labels = labels[train_index], labels[test_index]\n",
    "\n",
    "# Further split the test set into validation and test sets\n",
    "sss_val = StratifiedShuffleSplit(n_splits=1, test_size=0.5, random_state=42)  # 50% of the test set for validation\n",
    "for val_index, test_index in sss_val.split(test_file_paths, test_labels):\n",
    "    val_file_paths, final_test_file_paths = np.array(test_file_paths)[val_index], np.array(test_file_paths)[test_index]\n",
    "    val_labels, final_test_labels = test_labels[val_index], test_labels[test_index]\n",
    "\n",
    "# Print the results\n",
    "print(f\"Training set size: {len(train_file_paths)}\")\n",
    "print(f\"Validation set size: {len(val_file_paths)}\")\n",
    "print(f\"Test set size: {len(final_test_file_paths)}\")\n",
    "\n",
    "# Create datasets\n",
    "train_dataset = FMRI_Dataset(train_file_paths.tolist(), train_labels.tolist(), max_shape)\n",
    "val_dataset = FMRI_Dataset(val_file_paths.tolist(), val_labels.tolist(), max_shape)\n",
    "test_dataset = FMRI_Dataset(final_test_file_paths.tolist(), final_test_labels.tolist(), max_shape)\n",
    "\n",
    "# Create DataLoaders\n",
    "train_loader = DataLoader(train_dataset, batch_size=batch_size, shuffle=True)\n",
    "val_loader = DataLoader(val_dataset, batch_size=batch_size, shuffle=False)\n",
    "test_loader = DataLoader(test_dataset, batch_size=batch_size, shuffle=False)"
   ]
  },
  {
   "cell_type": "code",
   "execution_count": null,
   "metadata": {},
   "outputs": [],
   "source": [
    "import random\n",
    "\n",
    "# Sample based on actual length\n",
    "sample_size = min(4, len(file_paths))  # Adjust sample size to available data\n",
    "sample_indices = random.sample(range(len(file_paths)), sample_size)\n",
    "\n",
    "for idx in sample_indices:\n",
    "    print(f\"File Path: {file_paths[idx]}\")\n",
    "    print(f\"Label: {labels[idx]}\")\n",
    "    data = nib.load(file_paths[idx]).get_fdata()\n",
    "    print(f\"Data Shape: {data.shape}\\n\")\n"
   ]
  },
  {
   "cell_type": "markdown",
   "metadata": {
    "id": "O8foNAGnYHdv"
   },
   "source": [
    "# CNN-AE"
   ]
  },
  {
   "cell_type": "code",
   "execution_count": null,
   "metadata": {
    "colab": {
     "base_uri": "https://localhost:8080/"
    },
    "executionInfo": {
     "elapsed": 2468,
     "status": "ok",
     "timestamp": 1727205276496,
     "user": {
      "displayName": "Yasty Sánchez",
      "userId": "01336246420740504937"
     },
     "user_tz": 360
    },
    "id": "3mG-7GH_YKAO",
    "outputId": "19a7bdcb-b596-48f5-ebe2-14332a68922d"
   },
   "outputs": [],
   "source": [
    "import torch\n",
    "import torch.nn as nn\n",
    "import torch.optim as optim\n",
    "import torch.nn.functional as F\n",
    "\n",
    "class CNN_Autoencoder(nn.Module):\n",
    "    def __init__(self):\n",
    "        super(CNN_Autoencoder, self).__init__()\n",
    "\n",
    "        # Encoder\n",
    "        self.encoder = nn.Sequential(\n",
    "            nn.Conv3d(1, 64, kernel_size=3, stride=2, padding=1),\n",
    "            nn.BatchNorm3d(64),\n",
    "            nn.ReLU(),\n",
    "            nn.Conv3d(64, 128, kernel_size=3, stride=2, padding=1),\n",
    "            nn.BatchNorm3d(128),\n",
    "            nn.ReLU(),\n",
    "            nn.Conv3d(128, 256, kernel_size=3, stride=2, padding=1),\n",
    "            nn.BatchNorm3d(256),\n",
    "            nn.ReLU(),\n",
    "            nn.Conv3d(256, 512, kernel_size=3, stride=2, padding=1),\n",
    "            nn.BatchNorm3d(512),\n",
    "            nn.ReLU(),\n",
    "        )\n",
    "\n",
    "        # Decoder\n",
    "        self.decoder = nn.Sequential(\n",
    "            nn.ConvTranspose3d(512, 256, kernel_size=3, stride=2, padding=1, output_padding=(1, 1, 1)),\n",
    "            nn.BatchNorm3d(256),\n",
    "            nn.ReLU(),\n",
    "            nn.ConvTranspose3d(256, 128, kernel_size=3, stride=2, padding=1, output_padding=(1, 0, 1)),\n",
    "            nn.BatchNorm3d(128),\n",
    "            nn.ReLU(),\n",
    "            nn.ConvTranspose3d(128, 64, kernel_size=3, stride=2, padding=1, output_padding=(0, 0, 0)),\n",
    "            nn.BatchNorm3d(64),\n",
    "            nn.ReLU(),\n",
    "            nn.ConvTranspose3d(64, 1, kernel_size=3, stride=2, padding=1, output_padding=(0, 0, 0)),\n",
    "            nn.Sigmoid()\n",
    "        )\n",
    "\n",
    "    def forward(self, x):\n",
    "        x = self.encoder(x)\n",
    "        x = self.decoder(x)\n",
    "        return x\n",
    "\n",
    "# Example usage\n",
    "device = torch.device('cuda' if torch.cuda.is_available() else 'cpu')\n",
    "autoencoder = CNN_Autoencoder().to(device)\n",
    "\n",
    "# Generate random input\n",
    "inputs = torch.rand((4, 1, 61, 73, 61)).to(device)  # Example input shape\n",
    "output = autoencoder(inputs)\n",
    "print(output.shape)  # Should match the input shape [4, 1, 61, 73, 61]\n",
    "\n",
    "# Loss and optimizer\n",
    "criterion = nn.MSELoss()  # Mean Squared Error for autoencoder\n",
    "optimizer = optim.Adam(autoencoder.parameters(), lr=0.001, weight_decay=1e-5)"
   ]
  },
  {
   "cell_type": "code",
   "execution_count": null,
   "metadata": {
    "colab": {
     "base_uri": "https://localhost:8080/"
    },
    "id": "pHZ6Bjm4YMCa",
    "outputId": "f0d69c64-f5a9-44fa-88bc-75d50fdf19cc"
   },
   "outputs": [],
   "source": [
    "# Number of epochs\n",
    "epochs = 100\n",
    "\n",
    "# Track the best validation loss\n",
    "best_val_loss = float('inf')\n",
    "\n",
    "for epoch in range(epochs):\n",
    "    # Training phase\n",
    "    autoencoder.train()  # Set the model to training mode\n",
    "    total_loss = 0.0\n",
    "    for batch_idx, (inputs, labels) in enumerate(train_loader):\n",
    "        inputs = inputs.to(device)  # Send to GPU if available\n",
    "\n",
    "        # Forward pass\n",
    "        outputs = autoencoder(inputs)\n",
    "        loss = criterion(outputs, inputs)  # Compare reconstruction with original input\n",
    "\n",
    "        # Backward pass and optimization\n",
    "        optimizer.zero_grad()\n",
    "        loss.backward()\n",
    "        optimizer.step()\n",
    "\n",
    "        total_loss += loss.item()\n",
    "\n",
    "    # Calculate average training loss\n",
    "    avg_train_loss = total_loss / len(train_loader)\n",
    "    print(f\"Epoch [{epoch+1}/{epochs}], Training Loss: {avg_train_loss}\")\n",
    "\n",
    "    # Validation phase\n",
    "    autoencoder.eval()  # Set the model to evaluation mode\n",
    "    total_val_loss = 0.0\n",
    "    with torch.no_grad():  # Disable gradient calculation\n",
    "        for val_inputs, val_labels in val_loader:\n",
    "            val_inputs_reduced = torch.mean(val_inputs, dim=-1)\n",
    "            val_inputs = val_inputs_reduced.to(device)  # Send validation inputs to GPU if available\n",
    "\n",
    "            # Forward pass\n",
    "            val_outputs = autoencoder(val_inputs)\n",
    "            val_loss = criterion(val_outputs, val_inputs)  # Compare reconstruction with original input\n",
    "            total_val_loss += val_loss.item()\n",
    "\n",
    "    # Calculate average validation loss\n",
    "    avg_val_loss = total_val_loss / len(val_loader)\n",
    "    print(f\"Epoch [{epoch+1}/{epochs}], Validation Loss: {avg_val_loss}\")\n",
    "\n",
    "    # Save the model if the validation loss has decreased\n",
    "    if avg_val_loss < best_val_loss:\n",
    "        best_val_loss = avg_val_loss\n",
    "        torch.save(autoencoder.state_dict(), save_path)\n",
    "        print(f\"Model saved at epoch {epoch+1} with validation loss: {avg_val_loss}\")\n",
    "\n",
    "# Final save after training\n",
    "torch.save(autoencoder.state_dict(), save_path)"
   ]
  }
 ],
 "metadata": {
  "accelerator": "GPU",
  "colab": {
   "authorship_tag": "ABX9TyMaDGZjUjH0q9uGkEIfs8cd",
   "gpuType": "T4",
   "provenance": []
  },
  "kernelspec": {
   "display_name": "Python 3",
   "name": "python3"
  },
  "language_info": {
   "codemirror_mode": {
    "name": "ipython",
    "version": 3
   },
   "file_extension": ".py",
   "mimetype": "text/x-python",
   "name": "python",
   "nbconvert_exporter": "python",
   "pygments_lexer": "ipython3",
   "version": "3.8.10"
  }
 },
 "nbformat": 4,
 "nbformat_minor": 0
}
